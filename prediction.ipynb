{
 "cells": [
  {
   "cell_type": "code",
   "execution_count": 27,
   "id": "668830ee-b41b-4b3f-886a-812fd61c93de",
   "metadata": {},
   "outputs": [],
   "source": [
    "import numpy as np\n",
    "import pandas as pd\n",
    "import matplotlib.pyplot as plt\n",
    "import seaborn as sns\n",
    " \n",
    "from sklearn.model_selection import train_test_split\n",
    "from sklearn.preprocessing import StandardScaler\n",
    "from sklearn.linear_model import LogisticRegression\n",
    "from sklearn.svm import SVC\n",
    "from xgboost import XGBClassifier\n",
    "from sklearn import metrics\n",
    "from datetime import datetime\n",
    " \n",
    "import warnings\n",
    "warnings.filterwarnings('ignore')"
   ]
  },
  {
   "cell_type": "code",
   "execution_count": 4,
   "id": "8b9fa9aa-6c45-4f57-b55d-f6d163356596",
   "metadata": {},
   "outputs": [],
   "source": [
    "data = pd.read_csv(r'C:\\Users\\pilli.pavithra\\Documents\\bitcoin\\bitcoin_2017_to_2023.csv')"
   ]
  },
  {
   "cell_type": "code",
   "execution_count": 5,
   "id": "6d50245f-0d7f-4da4-926e-c6d6146393fb",
   "metadata": {},
   "outputs": [
    {
     "data": {
      "text/html": [
       "<div>\n",
       "<style scoped>\n",
       "    .dataframe tbody tr th:only-of-type {\n",
       "        vertical-align: middle;\n",
       "    }\n",
       "\n",
       "    .dataframe tbody tr th {\n",
       "        vertical-align: top;\n",
       "    }\n",
       "\n",
       "    .dataframe thead th {\n",
       "        text-align: right;\n",
       "    }\n",
       "</style>\n",
       "<table border=\"1\" class=\"dataframe\">\n",
       "  <thead>\n",
       "    <tr style=\"text-align: right;\">\n",
       "      <th></th>\n",
       "      <th>timestamp</th>\n",
       "      <th>open</th>\n",
       "      <th>high</th>\n",
       "      <th>low</th>\n",
       "      <th>close</th>\n",
       "      <th>volume</th>\n",
       "      <th>quote_asset_volume</th>\n",
       "      <th>number_of_trades</th>\n",
       "      <th>taker_buy_base_asset_volume</th>\n",
       "      <th>taker_buy_quote_asset_volume</th>\n",
       "    </tr>\n",
       "  </thead>\n",
       "  <tbody>\n",
       "    <tr>\n",
       "      <th>0</th>\n",
       "      <td>2023-08-01 13:19:00</td>\n",
       "      <td>28902.48</td>\n",
       "      <td>28902.49</td>\n",
       "      <td>28902.48</td>\n",
       "      <td>28902.49</td>\n",
       "      <td>4.68658</td>\n",
       "      <td>1.354538e+05</td>\n",
       "      <td>258</td>\n",
       "      <td>0.89391</td>\n",
       "      <td>25836.224836</td>\n",
       "    </tr>\n",
       "    <tr>\n",
       "      <th>1</th>\n",
       "      <td>2023-08-01 13:18:00</td>\n",
       "      <td>28902.48</td>\n",
       "      <td>28902.49</td>\n",
       "      <td>28902.48</td>\n",
       "      <td>28902.49</td>\n",
       "      <td>4.77589</td>\n",
       "      <td>1.380351e+05</td>\n",
       "      <td>317</td>\n",
       "      <td>2.24546</td>\n",
       "      <td>64899.385195</td>\n",
       "    </tr>\n",
       "    <tr>\n",
       "      <th>2</th>\n",
       "      <td>2023-08-01 13:17:00</td>\n",
       "      <td>28908.52</td>\n",
       "      <td>28908.53</td>\n",
       "      <td>28902.48</td>\n",
       "      <td>28902.49</td>\n",
       "      <td>11.52263</td>\n",
       "      <td>3.330532e+05</td>\n",
       "      <td>451</td>\n",
       "      <td>2.70873</td>\n",
       "      <td>78290.170121</td>\n",
       "    </tr>\n",
       "    <tr>\n",
       "      <th>3</th>\n",
       "      <td>2023-08-01 13:16:00</td>\n",
       "      <td>28907.41</td>\n",
       "      <td>28912.74</td>\n",
       "      <td>28907.41</td>\n",
       "      <td>28908.53</td>\n",
       "      <td>15.89610</td>\n",
       "      <td>4.595556e+05</td>\n",
       "      <td>483</td>\n",
       "      <td>10.22981</td>\n",
       "      <td>295738.166916</td>\n",
       "    </tr>\n",
       "    <tr>\n",
       "      <th>4</th>\n",
       "      <td>2023-08-01 13:15:00</td>\n",
       "      <td>28896.00</td>\n",
       "      <td>28907.42</td>\n",
       "      <td>28893.03</td>\n",
       "      <td>28907.41</td>\n",
       "      <td>37.74657</td>\n",
       "      <td>1.090761e+06</td>\n",
       "      <td>686</td>\n",
       "      <td>16.50452</td>\n",
       "      <td>476955.246611</td>\n",
       "    </tr>\n",
       "  </tbody>\n",
       "</table>\n",
       "</div>"
      ],
      "text/plain": [
       "             timestamp      open      high       low     close    volume  \\\n",
       "0  2023-08-01 13:19:00  28902.48  28902.49  28902.48  28902.49   4.68658   \n",
       "1  2023-08-01 13:18:00  28902.48  28902.49  28902.48  28902.49   4.77589   \n",
       "2  2023-08-01 13:17:00  28908.52  28908.53  28902.48  28902.49  11.52263   \n",
       "3  2023-08-01 13:16:00  28907.41  28912.74  28907.41  28908.53  15.89610   \n",
       "4  2023-08-01 13:15:00  28896.00  28907.42  28893.03  28907.41  37.74657   \n",
       "\n",
       "   quote_asset_volume  number_of_trades  taker_buy_base_asset_volume  \\\n",
       "0        1.354538e+05               258                      0.89391   \n",
       "1        1.380351e+05               317                      2.24546   \n",
       "2        3.330532e+05               451                      2.70873   \n",
       "3        4.595556e+05               483                     10.22981   \n",
       "4        1.090761e+06               686                     16.50452   \n",
       "\n",
       "   taker_buy_quote_asset_volume  \n",
       "0                  25836.224836  \n",
       "1                  64899.385195  \n",
       "2                  78290.170121  \n",
       "3                 295738.166916  \n",
       "4                 476955.246611  "
      ]
     },
     "execution_count": 5,
     "metadata": {},
     "output_type": "execute_result"
    }
   ],
   "source": [
    "data.head()"
   ]
  },
  {
   "cell_type": "code",
   "execution_count": 6,
   "id": "70585650-4630-4f47-955d-414d5032dbb5",
   "metadata": {},
   "outputs": [
    {
     "data": {
      "text/plain": [
       "0          2023-08-01 13:19:00\n",
       "1          2023-08-01 13:18:00\n",
       "2          2023-08-01 13:17:00\n",
       "3          2023-08-01 13:16:00\n",
       "4          2023-08-01 13:15:00\n",
       "                  ...         \n",
       "3125995    2017-08-17 04:04:00\n",
       "3125996    2017-08-17 04:03:00\n",
       "3125997    2017-08-17 04:02:00\n",
       "3125998    2017-08-17 04:01:00\n",
       "3125999    2017-08-17 04:00:00\n",
       "Name: timestamp, Length: 3126000, dtype: object"
      ]
     },
     "execution_count": 6,
     "metadata": {},
     "output_type": "execute_result"
    }
   ],
   "source": [
    "data['timestamp']"
   ]
  },
  {
   "cell_type": "code",
   "execution_count": 7,
   "id": "282c2094-bd99-46ac-bd71-b6305bcc4721",
   "metadata": {},
   "outputs": [
    {
     "data": {
      "text/plain": [
       "timestamp                       0\n",
       "open                            0\n",
       "high                            0\n",
       "low                             0\n",
       "close                           0\n",
       "volume                          0\n",
       "quote_asset_volume              0\n",
       "number_of_trades                0\n",
       "taker_buy_base_asset_volume     0\n",
       "taker_buy_quote_asset_volume    0\n",
       "dtype: int64"
      ]
     },
     "execution_count": 7,
     "metadata": {},
     "output_type": "execute_result"
    }
   ],
   "source": [
    "data.isnull().sum()"
   ]
  },
  {
   "cell_type": "code",
   "execution_count": 8,
   "id": "51f59c7e-7e2b-451e-a895-5d852fbb0db1",
   "metadata": {},
   "outputs": [],
   "source": [
    "#duplicates = data.duplicated()       # this code is showing different values as duplicates\n",
    "#print((data[duplicates]).head())"
   ]
  },
  {
   "cell_type": "code",
   "execution_count": 9,
   "id": "9e740e4e-2dd1-4685-bff6-547976cffef7",
   "metadata": {},
   "outputs": [
    {
     "data": {
      "text/html": [
       "<div>\n",
       "<style scoped>\n",
       "    .dataframe tbody tr th:only-of-type {\n",
       "        vertical-align: middle;\n",
       "    }\n",
       "\n",
       "    .dataframe tbody tr th {\n",
       "        vertical-align: top;\n",
       "    }\n",
       "\n",
       "    .dataframe thead th {\n",
       "        text-align: right;\n",
       "    }\n",
       "</style>\n",
       "<table border=\"1\" class=\"dataframe\">\n",
       "  <thead>\n",
       "    <tr style=\"text-align: right;\">\n",
       "      <th></th>\n",
       "      <th>open</th>\n",
       "      <th>high</th>\n",
       "      <th>low</th>\n",
       "      <th>close</th>\n",
       "      <th>volume</th>\n",
       "      <th>quote_asset_volume</th>\n",
       "      <th>number_of_trades</th>\n",
       "      <th>taker_buy_base_asset_volume</th>\n",
       "      <th>taker_buy_quote_asset_volume</th>\n",
       "    </tr>\n",
       "  </thead>\n",
       "  <tbody>\n",
       "    <tr>\n",
       "      <th>count</th>\n",
       "      <td>3.126000e+06</td>\n",
       "      <td>3.126000e+06</td>\n",
       "      <td>3.126000e+06</td>\n",
       "      <td>3.126000e+06</td>\n",
       "      <td>3.126000e+06</td>\n",
       "      <td>3.126000e+06</td>\n",
       "      <td>3.126000e+06</td>\n",
       "      <td>3.126000e+06</td>\n",
       "      <td>3.126000e+06</td>\n",
       "    </tr>\n",
       "    <tr>\n",
       "      <th>mean</th>\n",
       "      <td>2.008947e+04</td>\n",
       "      <td>2.010217e+04</td>\n",
       "      <td>2.007666e+04</td>\n",
       "      <td>2.008946e+04</td>\n",
       "      <td>5.290800e+01</td>\n",
       "      <td>1.155882e+06</td>\n",
       "      <td>1.018583e+03</td>\n",
       "      <td>2.632231e+01</td>\n",
       "      <td>5.727211e+05</td>\n",
       "    </tr>\n",
       "    <tr>\n",
       "      <th>std</th>\n",
       "      <td>1.605896e+04</td>\n",
       "      <td>1.606926e+04</td>\n",
       "      <td>1.604871e+04</td>\n",
       "      <td>1.605896e+04</td>\n",
       "      <td>9.774388e+01</td>\n",
       "      <td>2.335868e+06</td>\n",
       "      <td>1.817813e+03</td>\n",
       "      <td>4.972880e+01</td>\n",
       "      <td>1.193135e+06</td>\n",
       "    </tr>\n",
       "    <tr>\n",
       "      <th>min</th>\n",
       "      <td>2.830000e+03</td>\n",
       "      <td>2.830000e+03</td>\n",
       "      <td>2.817000e+03</td>\n",
       "      <td>2.817000e+03</td>\n",
       "      <td>0.000000e+00</td>\n",
       "      <td>0.000000e+00</td>\n",
       "      <td>0.000000e+00</td>\n",
       "      <td>0.000000e+00</td>\n",
       "      <td>0.000000e+00</td>\n",
       "    </tr>\n",
       "    <tr>\n",
       "      <th>25%</th>\n",
       "      <td>7.624747e+03</td>\n",
       "      <td>7.629600e+03</td>\n",
       "      <td>7.620000e+03</td>\n",
       "      <td>7.624798e+03</td>\n",
       "      <td>1.120167e+01</td>\n",
       "      <td>1.122335e+05</td>\n",
       "      <td>1.500000e+02</td>\n",
       "      <td>5.100715e+00</td>\n",
       "      <td>5.125057e+04</td>\n",
       "    </tr>\n",
       "    <tr>\n",
       "      <th>50%</th>\n",
       "      <td>1.169999e+04</td>\n",
       "      <td>1.170681e+04</td>\n",
       "      <td>1.169249e+04</td>\n",
       "      <td>1.170000e+04</td>\n",
       "      <td>2.387539e+01</td>\n",
       "      <td>3.706467e+05</td>\n",
       "      <td>4.130000e+02</td>\n",
       "      <td>1.148990e+01</td>\n",
       "      <td>1.753695e+05</td>\n",
       "    </tr>\n",
       "    <tr>\n",
       "      <th>75%</th>\n",
       "      <td>2.989957e+04</td>\n",
       "      <td>2.990724e+04</td>\n",
       "      <td>2.989051e+04</td>\n",
       "      <td>2.989957e+04</td>\n",
       "      <td>5.393630e+01</td>\n",
       "      <td>1.276762e+06</td>\n",
       "      <td>1.026000e+03</td>\n",
       "      <td>2.693009e+01</td>\n",
       "      <td>6.210250e+05</td>\n",
       "    </tr>\n",
       "    <tr>\n",
       "      <th>max</th>\n",
       "      <td>6.900000e+04</td>\n",
       "      <td>6.900000e+04</td>\n",
       "      <td>6.878670e+04</td>\n",
       "      <td>6.900000e+04</td>\n",
       "      <td>5.877775e+03</td>\n",
       "      <td>1.459557e+08</td>\n",
       "      <td>1.073150e+05</td>\n",
       "      <td>3.537453e+03</td>\n",
       "      <td>8.947551e+07</td>\n",
       "    </tr>\n",
       "  </tbody>\n",
       "</table>\n",
       "</div>"
      ],
      "text/plain": [
       "               open          high           low         close        volume  \\\n",
       "count  3.126000e+06  3.126000e+06  3.126000e+06  3.126000e+06  3.126000e+06   \n",
       "mean   2.008947e+04  2.010217e+04  2.007666e+04  2.008946e+04  5.290800e+01   \n",
       "std    1.605896e+04  1.606926e+04  1.604871e+04  1.605896e+04  9.774388e+01   \n",
       "min    2.830000e+03  2.830000e+03  2.817000e+03  2.817000e+03  0.000000e+00   \n",
       "25%    7.624747e+03  7.629600e+03  7.620000e+03  7.624798e+03  1.120167e+01   \n",
       "50%    1.169999e+04  1.170681e+04  1.169249e+04  1.170000e+04  2.387539e+01   \n",
       "75%    2.989957e+04  2.990724e+04  2.989051e+04  2.989957e+04  5.393630e+01   \n",
       "max    6.900000e+04  6.900000e+04  6.878670e+04  6.900000e+04  5.877775e+03   \n",
       "\n",
       "       quote_asset_volume  number_of_trades  taker_buy_base_asset_volume  \\\n",
       "count        3.126000e+06      3.126000e+06                 3.126000e+06   \n",
       "mean         1.155882e+06      1.018583e+03                 2.632231e+01   \n",
       "std          2.335868e+06      1.817813e+03                 4.972880e+01   \n",
       "min          0.000000e+00      0.000000e+00                 0.000000e+00   \n",
       "25%          1.122335e+05      1.500000e+02                 5.100715e+00   \n",
       "50%          3.706467e+05      4.130000e+02                 1.148990e+01   \n",
       "75%          1.276762e+06      1.026000e+03                 2.693009e+01   \n",
       "max          1.459557e+08      1.073150e+05                 3.537453e+03   \n",
       "\n",
       "       taker_buy_quote_asset_volume  \n",
       "count                  3.126000e+06  \n",
       "mean                   5.727211e+05  \n",
       "std                    1.193135e+06  \n",
       "min                    0.000000e+00  \n",
       "25%                    5.125057e+04  \n",
       "50%                    1.753695e+05  \n",
       "75%                    6.210250e+05  \n",
       "max                    8.947551e+07  "
      ]
     },
     "execution_count": 9,
     "metadata": {},
     "output_type": "execute_result"
    }
   ],
   "source": [
    "data.describe()"
   ]
  },
  {
   "cell_type": "code",
   "execution_count": 20,
   "id": "8599d53e-68e7-4ffc-af51-3ccc3497bef7",
   "metadata": {},
   "outputs": [
    {
     "name": "stdout",
     "output_type": "stream",
     "text": [
      "                   timestamp  year\n",
      "0        2023-08-01 13:19:00  2023\n",
      "1        2023-08-01 13:18:00  2023\n",
      "2        2023-08-01 13:17:00  2023\n",
      "3        2023-08-01 13:16:00  2023\n",
      "4        2023-08-01 13:15:00  2023\n",
      "...                      ...   ...\n",
      "3125995  2017-08-17 04:04:00  2017\n",
      "3125996  2017-08-17 04:03:00  2017\n",
      "3125997  2017-08-17 04:02:00  2017\n",
      "3125998  2017-08-17 04:01:00  2017\n",
      "3125999  2017-08-17 04:00:00  2017\n",
      "\n",
      "[3126000 rows x 2 columns]\n"
     ]
    }
   ],
   "source": [
    "\n",
    "\n",
    "data['year'] = pd.to_datetime(data['timestamp']).dt.year\n",
    "\n",
    "# Display the updated dataframe\n",
    "print(data[['timestamp', 'year']])"
   ]
  },
  {
   "cell_type": "code",
   "execution_count": 30,
   "id": "f04a9c91-f7f6-4730-a78a-c5c06ff97065",
   "metadata": {},
   "outputs": [
    {
     "data": {
      "text/plain": [
       "<seaborn.axisgrid.FacetGrid at 0x19c469ae910>"
      ]
     },
     "execution_count": 30,
     "metadata": {},
     "output_type": "execute_result"
    },
    {
     "data": {
      "image/png": "[encoded data removed]",
      "text/plain": [
       "<Figure size 500x500 with 1 Axes>"
      ]
     },
     "metadata": {},
     "output_type": "display_data"
    }
   ],
   "source": [
    "sns.relplot(data=data, x='year', y='close', kind='line')"
   ]
  },
  {
   "cell_type": "code",
   "execution_count": null,
   "id": "0355913e-be9a-4df2-af73-033e5f2a83a9",
   "metadata": {},
   "outputs": [],
   "source": []
  }
 ],
 "metadata": {
  "kernelspec": {
   "display_name": "Python 3 (ipykernel)",
   "language": "python",
   "name": "python3"
  },
  "language_info": {
   "codemirror_mode": {
    "name": "ipython",
    "version": 3
   },
   "file_extension": ".py",
   "mimetype": "text/x-python",
   "name": "python",
   "nbconvert_exporter": "python",
   "pygments_lexer": "ipython3",
   "version": "3.11.7"
  }
 },
 "nbformat": 4,
 "nbformat_minor": 5
}
